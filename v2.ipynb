{
  "nbformat": 4,
  "nbformat_minor": 0,
  "metadata": {
    "colab": {
      "provenance": [],
      "include_colab_link": true
    },
    "kernelspec": {
      "name": "python3",
      "display_name": "Python 3"
    },
    "language_info": {
      "name": "python"
    }
  },
  "cells": [
    {
      "cell_type": "markdown",
      "metadata": {
        "id": "view-in-github",
        "colab_type": "text"
      },
      "source": [
        "<a href=\"https://colab.research.google.com/github/axiom19/Mitsuba_Render_Tutorial/blob/main/v2.ipynb\" target=\"_parent\"><img src=\"https://colab.research.google.com/assets/colab-badge.svg\" alt=\"Open In Colab\"/></a>"
      ]
    },
    {
      "cell_type": "code",
      "execution_count": 8,
      "metadata": {
        "colab": {
          "base_uri": "https://localhost:8080/"
        },
        "id": "YfTgygOtZqPh",
        "outputId": "9c519f77-242c-4a39-9f87-6a973160279e"
      },
      "outputs": [
        {
          "output_type": "stream",
          "name": "stdout",
          "text": [
            "Looking in indexes: https://pypi.org/simple, https://us-python.pkg.dev/colab-wheels/public/simple/\n",
            "Requirement already satisfied: mitsuba in /usr/local/lib/python3.10/dist-packages (3.3.0)\n",
            "Requirement already satisfied: drjit==0.4.2 in /usr/local/lib/python3.10/dist-packages (from mitsuba) (0.4.2)\n"
          ]
        }
      ],
      "source": [
        "pip install mitsuba"
      ]
    },
    {
      "cell_type": "code",
      "source": [
        "import mitsuba as mi"
      ],
      "metadata": {
        "id": "vrO3s1MUZ9xz"
      },
      "execution_count": 9,
      "outputs": []
    },
    {
      "cell_type": "code",
      "source": [
        "import matplotlib.pyplot as plt"
      ],
      "metadata": {
        "id": "ENHXaxHJAmkd"
      },
      "execution_count": 10,
      "outputs": []
    },
    {
      "cell_type": "markdown",
      "source": [
        "<h3>Setting the variant of Mitsuba</h3>\n",
        "<ol><li> Settings have either GPU or CPU usage\n",
        "<li> scalar or vectorized inputs\n",
        "<li> Automatic Differentiation or not"
      ],
      "metadata": {
        "id": "pRVdjywMawun"
      }
    },
    {
      "cell_type": "code",
      "source": [
        "mi.variants() # this method shows the available variants which could be used"
      ],
      "metadata": {
        "colab": {
          "base_uri": "https://localhost:8080/"
        },
        "id": "E3mx7ZfXaNLP",
        "outputId": "fbedd85c-70e9-42a8-8f44-84361d0c9c08"
      },
      "execution_count": 11,
      "outputs": [
        {
          "output_type": "execute_result",
          "data": {
            "text/plain": [
              "['scalar_rgb', 'scalar_spectral', 'cuda_ad_rgb', 'llvm_ad_rgb']"
            ]
          },
          "metadata": {},
          "execution_count": 11
        }
      ]
    },
    {
      "cell_type": "code",
      "source": [
        "mi.set_variant('scalar_rgb') # setting variants to CPU usage rendering with scalar input without automatic differentiation"
      ],
      "metadata": {
        "id": "il6wq9tYaOF2"
      },
      "execution_count": 12,
      "outputs": []
    },
    {
      "cell_type": "markdown",
      "source": [
        "# Create an object scene Dictionary or load an XML file \n",
        "<ul><li>Inegrator : How the light source interacts with object\n",
        "<li> BSDF : Surface scattering models describe the manner in which light interacts with surfaces in the scene\n",
        "<li> Emitter : How the light is emitted from the light source (Area , Point Source, Projection Light Source, etc)\n",
        "<li> Film : A film defines how conducted measurements are stored and converted into the final output file that is written to disk at the end of the rendering process (HDR or Spectral Film)\n",
        "<li> Participating Media : Media inside or outside the object\n",
        "<li> Phase Functions\n",
        "<li> Sampler: which samples the points in the geometry to give integration process a head start\n",
        "<li> Sensors : Camera view like angles, FOV, POV \n",
        "\n"
      ],
      "metadata": {
        "id": "WLZSbjfBjH0I"
      }
    },
    {
      "cell_type": "code",
      "source": [
        "scene = mi.load_dict({\n",
        "    \"type\": \"scene\",\n",
        "\n",
        "    ########### define integrator\n",
        "    \"myintegrator\": {\n",
        "        \"type\": \"path\",\n",
        "    },\n",
        "\n",
        "    ########### define sensors\n",
        "    \"mysensor\": {\n",
        "        \"type\": \"perspective\",\n",
        "        \"fov\":140,\n",
        "        \"to_world\": mi.ScalarTransform4f.look_at(origin=[-9, 9, 6],\n",
        "                                                 target=[4, 0, 0],\n",
        "                                                 up=[0, 0, 1]),\n",
        "        \"myfilm\": {\n",
        "            \"type\": \"hdrfilm\",\n",
        "            \"rfilter\": {\n",
        "                \"type\": \"box\"\n",
        "            },\n",
        "            \"width\": 1024,\n",
        "            \"height\": 768,\n",
        "        }, \"mysampler\": {\n",
        "            \"type\": \"independent\",\n",
        "            \"sample_count\": 4,\n",
        "        },\n",
        "    },\n",
        "\n",
        "    ############# Point source emitters ###################\n",
        "    # ####### define emitters\n",
        "    # \"myemitter1\": {\n",
        "    #     \"type\": \"point\",\n",
        "    #     \"to_world\" : mi.ScalarTransform4f.look_at(\n",
        "    #         origin=[9,4,0],\n",
        "    #         target=[0,0,0],\n",
        "    #         up=[0,0,2]\n",
        "    #     ),\n",
        "    #     'intensity' : {\n",
        "    #         'type': 'spectrum',\n",
        "    #         'value': 20.0\n",
        "    #     }\n",
        "    # },\n",
        "\n",
        "    # \"myemitter2\": {\n",
        "    #     \"type\": \"point\",\n",
        "    #     \"to_world\" : mi.ScalarTransform4f.look_at(\n",
        "    #         origin=[4,3,1],\n",
        "    #         target=[0,0,0],\n",
        "    #         up=[0,0,2]\n",
        "    #     ),\n",
        "    #     'intensity' : {\n",
        "    #         'type': 'spectrum',\n",
        "    #         'value': 10.0\n",
        "    #     }\n",
        "    # },\n",
        "\n",
        "\n",
        "    # ############# Constant Environment emitters ###################\n",
        "    # \"area_emitter_1\": {\n",
        "    #     \"type\": \"constant\",\n",
        "    #     \"radiance\" : {\n",
        "    #         \"type\" : \"rgb\",\n",
        "    #         \"value\": 1\n",
        "    #     }\n",
        "    # },\n",
        "\n",
        "\n",
        "    ####### define shape \n",
        "    \"myshape\": {\n",
        "        \"type\": \"sphere\",\n",
        "        # \"filename\" : \"cube.obj\",\n",
        "        'emitter':{\n",
        "            'type':'area',\n",
        "            'radiance':{\n",
        "                'type':'rgb',\n",
        "                'value':20\n",
        "            }\n",
        "        },\n",
        "        \"center\" : [4,0,35],\n",
        "        'radius' : 5,\n",
        "        \"mybsdf\": {\n",
        "            \"type\": \"diffuse\",\n",
        "            \"reflectance\": {\n",
        "                \"type\": \"rgb\",\n",
        "                \"value\": [0.9, 0.05, 0.05],\n",
        "            }\n",
        "        }\n",
        "    },\n",
        "\n",
        "    \"another_shape\":{\n",
        "        \"type\":\"sphere\",\n",
        "        \"center\":[4,0,-95],\n",
        "        'radius':100,\n",
        "        'bsdf':{\n",
        "            'type':'diffuse',\n",
        "            'reflectance':{\n",
        "                'type':'rgb',\n",
        "                'value':[0.3,0.25,0.7]\n",
        "            }\n",
        "        }\n",
        "}})"
      ],
      "metadata": {
        "id": "HDb033Vustl7"
      },
      "execution_count": 168,
      "outputs": []
    },
    {
      "cell_type": "code",
      "source": [
        "img = mi.render(scene, spp=255)"
      ],
      "metadata": {
        "id": "tbTuBl-89Bwq"
      },
      "execution_count": 169,
      "outputs": []
    },
    {
      "cell_type": "code",
      "source": [
        "plt.imshow(img)"
      ],
      "metadata": {
        "colab": {
          "base_uri": "https://localhost:8080/",
          "height": 452
        },
        "id": "cWKAcoAj_YZ-",
        "outputId": "151b9105-2e7d-4b79-b5b8-d8d37483808c"
      },
      "execution_count": 170,
      "outputs": [
        {
          "output_type": "execute_result",
          "data": {
            "text/plain": [
              "<matplotlib.image.AxesImage at 0x7fba2588b370>"
            ]
          },
          "metadata": {},
          "execution_count": 170
        },
        {
          "output_type": "display_data",
          "data": {
            "text/plain": [
              "<Figure size 640x480 with 1 Axes>"
            ],
            "image/png": "[encoded data removed]"
          },
          "metadata": {}
        }
      ]
    },
    {
      "cell_type": "code",
      "source": [
        "# integrator = mi.load_dict({\n",
        "#     \"type\" : \"path\",\n",
        "#     \"max_depth\" : 5 \n",
        "# })\n",
        "\n",
        "\n",
        "# sensors = mi.load_dict({\n",
        "#     \"type\" : \"prespective\",\n",
        "#     \"fov\" : 45,\n",
        "#     \"to_world\": mi.ScalarTransform4f.look_at(origin=[10, 4, 0],\n",
        "#                                                  target=[0, 0, 0],\n",
        "#                                                  up=[0, 0, 1]),\n",
        "#     \"myfilm\": {\n",
        "#             \"type\": \"hdrfilm\",\n",
        "#             \"rfilter\": {\n",
        "#                 \"type\": \"box\"\n",
        "#             },\n",
        "#             \"width\": 1024,\n",
        "#             \"height\": 768,\n",
        "#         }, \"mysampler\": {\n",
        "#             \"type\": \"independent\",\n",
        "#             \"sample_count\": 16,\n",
        "#         },\n",
        "# })\n",
        "\n",
        "\n",
        "# emitter = mi.load_dict({\n",
        "#         \"myemitter1\": {\n",
        "#         \"type\": \"point\",\n",
        "#         \"to_world\" : mi.ScalarTransform4f.look_at(\n",
        "#             origin=[7,4,0],\n",
        "#             target=[0,0,0],\n",
        "#             up=[0,0,1]\n",
        "#         ),\n",
        "#         'intensity' : {\n",
        "#             'type': 'spectrum',\n",
        "#             'value': 20.0\n",
        "#         }\n",
        "#     }\n",
        "# })\n",
        "\n",
        "# sensor = mi.load_dict({\n",
        "    \n",
        "# })"
      ],
      "metadata": {
        "id": "5SjRJFynAgh2"
      },
      "execution_count": null,
      "outputs": []
    }
  ]
}