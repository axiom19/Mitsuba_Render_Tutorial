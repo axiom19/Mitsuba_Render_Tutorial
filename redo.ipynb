{
  "nbformat": 4,
  "nbformat_minor": 0,
  "metadata": {
    "colab": {
      "provenance": [],
      "include_colab_link": true
    },
    "kernelspec": {
      "name": "python3",
      "display_name": "Python 3"
    },
    "language_info": {
      "name": "python"
    }
  },
  "cells": [
    {
      "cell_type": "markdown",
      "metadata": {
        "id": "view-in-github",
        "colab_type": "text"
      },
      "source": [
        "<a href=\"https://colab.research.google.com/github/axiom19/Mitsuba_Render_Tutorial/blob/main/redo.ipynb\" target=\"_parent\"><img src=\"https://colab.research.google.com/assets/colab-badge.svg\" alt=\"Open In Colab\"/></a>"
      ]
    },
    {
      "cell_type": "code",
      "execution_count": 1,
      "metadata": {
        "colab": {
          "base_uri": "https://localhost:8080/"
        },
        "id": "YfTgygOtZqPh",
        "outputId": "12157098-acf8-4a67-9819-770cc04cf80b"
      },
      "outputs": [
        {
          "output_type": "stream",
          "name": "stdout",
          "text": [
            "Looking in indexes: https://pypi.org/simple, https://us-python.pkg.dev/colab-wheels/public/simple/\n",
            "Collecting mitsuba\n",
            "  Downloading mitsuba-3.3.0-cp310-cp310-manylinux2014_x86_64.manylinux_2_17_x86_64.whl (38.3 MB)\n",
            "\u001b[2K     \u001b[90m━━━━━━━━━━━━━━━━━━━━━━━━━━━━━━━━━━━━━━━━\u001b[0m \u001b[32m38.3/38.3 MB\u001b[0m \u001b[31m34.2 MB/s\u001b[0m eta \u001b[36m0:00:00\u001b[0m\n",
            "\u001b[?25hCollecting drjit==0.4.2 (from mitsuba)\n",
            "  Downloading drjit-0.4.2-cp310-cp310-manylinux_2_17_x86_64.manylinux2014_x86_64.whl (4.5 MB)\n",
            "\u001b[2K     \u001b[90m━━━━━━━━━━━━━━━━━━━━━━━━━━━━━━━━━━━━━━━━\u001b[0m \u001b[32m4.5/4.5 MB\u001b[0m \u001b[31m13.5 MB/s\u001b[0m eta \u001b[36m0:00:00\u001b[0m\n",
            "\u001b[?25hInstalling collected packages: drjit, mitsuba\n",
            "Successfully installed drjit-0.4.2 mitsuba-3.3.0\n"
          ]
        }
      ],
      "source": [
        "pip install mitsuba"
      ]
    },
    {
      "cell_type": "code",
      "source": [
        "import mitsuba as mi"
      ],
      "metadata": {
        "id": "vrO3s1MUZ9xz"
      },
      "execution_count": 2,
      "outputs": []
    },
    {
      "cell_type": "code",
      "source": [
        "import matplotlib.pyplot as plt"
      ],
      "metadata": {
        "id": "ENHXaxHJAmkd"
      },
      "execution_count": 3,
      "outputs": []
    },
    {
      "cell_type": "markdown",
      "source": [
        "<h3>Setting the variant of Mitsuba</h3>\n",
        "<ol><li> Settings have either GPU or CPU usage\n",
        "<li> scalar or vectorized inputs\n",
        "<li> Automatic Differentiation or not"
      ],
      "metadata": {
        "id": "pRVdjywMawun"
      }
    },
    {
      "cell_type": "code",
      "source": [
        "mi.variants() # this method shows the available variants which could be used"
      ],
      "metadata": {
        "colab": {
          "base_uri": "https://localhost:8080/"
        },
        "id": "E3mx7ZfXaNLP",
        "outputId": "df370631-8dd8-4647-eb57-e836b86a0c47"
      },
      "execution_count": 4,
      "outputs": [
        {
          "output_type": "execute_result",
          "data": {
            "text/plain": [
              "['scalar_rgb', 'scalar_spectral', 'cuda_ad_rgb', 'llvm_ad_rgb']"
            ]
          },
          "metadata": {},
          "execution_count": 4
        }
      ]
    },
    {
      "cell_type": "code",
      "source": [
        "mi.set_variant('scalar_rgb') # setting variants to CPU usage rendering with scalar input without automatic differentiation"
      ],
      "metadata": {
        "id": "il6wq9tYaOF2"
      },
      "execution_count": 5,
      "outputs": []
    },
    {
      "cell_type": "markdown",
      "source": [
        "# Create an object scene Dictionary or load an XML file \n",
        "<ul><li>Inegrator : How the light source interacts with object\n",
        "<li> BSDF : Surface scattering models describe the manner in which light interacts with surfaces in the scene\n",
        "<li> Emitter : How the light is emitted from the light source (Area , Point Source, Projection Light Source, etc)\n",
        "<li> Film : A film defines how conducted measurements are stored and converted into the final output file that is written to disk at the end of the rendering process (HDR or Spectral Film)\n",
        "<li> Participating Media : Media inside or outside the object\n",
        "<li> Phase Functions\n",
        "<li> Sampler: which samples the points in the geometry to give integration process a head start\n",
        "<li> Sensors : Camera view like angles, FOV, POV \n",
        "\n"
      ],
      "metadata": {
        "id": "WLZSbjfBjH0I"
      }
    },
    {
      "cell_type": "code",
      "source": [
        "scene = mi.load_dict({\n",
        "    \"type\": \"scene\",\n",
        "\n",
        "    ########### define integrator\n",
        "    \"myintegrator\": {\n",
        "        \"type\": \"path\",\n",
        "    },\n",
        "\n",
        "    ########### define sensors\n",
        "    \"mysensor\": {\n",
        "        \"type\": \"perspective\",\n",
        "        \"fov\":140,\n",
        "        \"to_world\": mi.ScalarTransform4f.look_at(origin=[9, 4, 0],\n",
        "                                                 target=[0, 0, 0],\n",
        "                                                 up=[0, 0, 1]),\n",
        "        \"myfilm\": {\n",
        "            \"type\": \"hdrfilm\",\n",
        "            \"rfilter\": {\n",
        "                \"type\": \"box\"\n",
        "            },\n",
        "            \"width\": 1024,\n",
        "            \"height\": 768,\n",
        "        }, \"mysampler\": {\n",
        "            \"type\": \"independent\",\n",
        "            \"sample_count\": 4,\n",
        "        },\n",
        "    },\n",
        "\n",
        "\n",
        "    ####### define emitters\n",
        "    \"myemitter1\": {\n",
        "        \"type\": \"point\",\n",
        "        \"to_world\" : mi.ScalarTransform4f.look_at(\n",
        "            origin=[9,4,0],\n",
        "            target=[0,0,0],\n",
        "            up=[0,0,2]\n",
        "        ),\n",
        "        'intensity' : {\n",
        "            'type': 'spectrum',\n",
        "            'value': 20.0\n",
        "        }\n",
        "    },\n",
        "\n",
        "    \"myemitter2\": {\n",
        "        \"type\": \"point\",\n",
        "        \"to_world\" : mi.ScalarTransform4f.look_at(\n",
        "            origin=[7,3,1],\n",
        "            target=[0,0,0],\n",
        "            up=[0,0,2]\n",
        "        ),\n",
        "        'intensity' : {\n",
        "            'type': 'spectrum',\n",
        "            'value': 10.0\n",
        "        }\n",
        "    },\n",
        "\n",
        "\n",
        "    ####### define shape \n",
        "    \"myshape\": {\n",
        "        \"type\": \"obj\",\n",
        "        \"filename\" : \"cube.obj\",\n",
        "        # \"center\" : [0,0,0],\n",
        "        # 'radius' : 3,\n",
        "        \"mybsdf\": {\n",
        "            \"type\": \"diffuse\",\n",
        "            \"reflectance\": {\n",
        "                \"type\": \"rgb\",\n",
        "                \"value\": [0.9, 0.05, 0.05],\n",
        "            }\n",
        "        }\n",
        "    }\n",
        "})"
      ],
      "metadata": {
        "id": "HDb033Vustl7"
      },
      "execution_count": 83,
      "outputs": []
    },
    {
      "cell_type": "code",
      "source": [
        "img = mi.render(scene, spp=255)"
      ],
      "metadata": {
        "id": "tbTuBl-89Bwq"
      },
      "execution_count": 81,
      "outputs": []
    },
    {
      "cell_type": "code",
      "source": [
        "plt.imshow(img)"
      ],
      "metadata": {
        "colab": {
          "base_uri": "https://localhost:8080/",
          "height": 452
        },
        "id": "cWKAcoAj_YZ-",
        "outputId": "ee0a0010-290a-43a0-94a2-a195ee46adb8"
      },
      "execution_count": 84,
      "outputs": [
        {
          "output_type": "execute_result",
          "data": {
            "text/plain": [
              "<matplotlib.image.AxesImage at 0x7f90901bd4b0>"
            ]
          },
          "metadata": {},
          "execution_count": 84
        },
        {
          "output_type": "display_data",
          "data": {
            "text/plain": [
              "<Figure size 640x480 with 1 Axes>"
            ],
            "image/png": "[encoded data removed]"
          },
          "metadata": {}
        }
      ]
    },
    {
      "cell_type": "code",
      "source": [
        "plt.imshow(img)"
      ],
      "metadata": {
        "colab": {
          "base_uri": "https://localhost:8080/",
          "height": 470
        },
        "id": "hm5ggp6ZbGii",
        "outputId": "761f81a7-d671-46a3-f799-27163bf8b16a"
      },
      "execution_count": 62,
      "outputs": [
        {
          "output_type": "stream",
          "name": "stderr",
          "text": [
            "WARNING:matplotlib.image:Clipping input data to the valid range for imshow with RGB data ([0..1] for floats or [0..255] for integers).\n"
          ]
        },
        {
          "output_type": "execute_result",
          "data": {
            "text/plain": [
              "<matplotlib.image.AxesImage at 0x7f9090e7b250>"
            ]
          },
          "metadata": {},
          "execution_count": 62
        },
        {
          "output_type": "display_data",
          "data": {
            "text/plain": [
              "<Figure size 640x480 with 1 Axes>"
            ],
            "image/png": "[encoded data removed]"
          },
          "metadata": {}
        }
      ]
    },
    {
      "cell_type": "code",
      "source": [
        "integrator = mi.load_dict({\n",
        "    \"type\" : \"path\",\n",
        "    \"max_depth\" : 5 \n",
        "})\n",
        "\n",
        "\n",
        "sensors = mi.load_dict({\n",
        "    \"type\" : \"prespective\",\n",
        "    \"fov\" : 45,\n",
        "    \"to_world\": mi.ScalarTransform4f.look_at(origin=[10, 4, 0],\n",
        "                                                 target=[0, 0, 0],\n",
        "                                                 up=[0, 0, 1]),\n",
        "    \"myfilm\": {\n",
        "            \"type\": \"hdrfilm\",\n",
        "            \"rfilter\": {\n",
        "                \"type\": \"box\"\n",
        "            },\n",
        "            \"width\": 1024,\n",
        "            \"height\": 768,\n",
        "        }, \"mysampler\": {\n",
        "            \"type\": \"independent\",\n",
        "            \"sample_count\": 16,\n",
        "        },\n",
        "})\n",
        "\n",
        "\n",
        "emitter = mi.load_dict({\n",
        "        \"myemitter1\": {\n",
        "        \"type\": \"point\",\n",
        "        \"to_world\" : mi.ScalarTransform4f.look_at(\n",
        "            origin=[7,4,0],\n",
        "            target=[0,0,0],\n",
        "            up=[0,0,1]\n",
        "        ),\n",
        "        'intensity' : {\n",
        "            'type': 'spectrum',\n",
        "            'value': 20.0\n",
        "        }\n",
        "    }\n",
        "})\n",
        "\n",
        "sensor = mi.load_dict({\n",
        "    \n",
        "})"
      ],
      "metadata": {
        "id": "5SjRJFynAgh2"
      },
      "execution_count": null,
      "outputs": []
    }
  ]
}